{
 "cells": [
  {
   "cell_type": "markdown",
   "metadata": {},
   "source": [
    "# rdams_client Example"
   ]
  },
  {
   "cell_type": "markdown",
   "metadata": {},
   "source": [
    "rdams_client can work as a command line script or python module to interact with python objects directly."
   ]
  },
  {
   "cell_type": "markdown",
   "metadata": {},
   "source": [
    "#### First, let's import the module and see what we can do."
   ]
  },
  {
   "cell_type": "code",
   "execution_count": null,
   "metadata": {},
   "outputs": [],
   "source": [
    "import rdams_client as rc\n",
    "# Make sure this is in the same directory as the notebook, or is in your PATH"
   ]
  },
  {
   "cell_type": "code",
   "execution_count": null,
   "metadata": {},
   "outputs": [],
   "source": [
    "print(rc.query.__doc__)"
   ]
  },
  {
   "cell_type": "code",
   "execution_count": null,
   "metadata": {},
   "outputs": [],
   "source": [
    "# Let's see what query can do.\n",
    "try:\n",
    "    print(rc.query(['-h']))\n",
    "except SystemExit: # No pesky system exits while learning.\n",
    "    pass"
   ]
  },
  {
   "cell_type": "markdown",
   "metadata": {},
   "source": [
    "**So we can use query() to do HTTP calls, or we can call the function itself.**\n",
    "\n",
    "**Let's try to get a summary of a dataset.**"
   ]
  },
  {
   "cell_type": "code",
   "execution_count": null,
   "metadata": {},
   "outputs": [],
   "source": [
    "# NOTE: when executing this command for the first time, you may be asked to authenticate\n",
    "\n",
    "# By default, query will print the result.\n",
    "# You can turn this off with the -noprint or -np option\n",
    "result = rc.query(['-get_summary', 'ds633.0'])"
   ]
  },
  {
   "cell_type": "code",
   "execution_count": null,
   "metadata": {},
   "outputs": [],
   "source": [
    "# Same thing, but we call the function directly\n",
    "result = rc.get_summary('633.0')\n",
    "print(result)"
   ]
  },
  {
   "cell_type": "code",
   "execution_count": null,
   "metadata": {},
   "outputs": [],
   "source": [
    "# Of course, we could have always done this on the command line.\n",
    "# NOTE: This cell will only work if it's the current directory\n",
    "! ./rdams_client.py -get_summary '633.0'"
   ]
  },
  {
   "cell_type": "markdown",
   "metadata": {},
   "source": [
    "### Example workflow"
   ]
  },
  {
   "cell_type": "code",
   "execution_count": null,
   "metadata": {},
   "outputs": [],
   "source": [
    "dsid = 'ds083.2'\n",
    "param_response = rc.query(['-get_param_summary', dsid, '-np'])\n",
    "# -get_param_summary returns an rda response object that has more info that we need, so we'll filter it out\n",
    "param_data = param_response['result']['data']\n",
    "params = list(map(lambda x: x['param_description'], param_data))\n",
    "print('\\n'.join(params))"
   ]
  },
  {
   "cell_type": "markdown",
   "metadata": {},
   "source": [
    "Great! Now we have a list of all parameters in 083.2\n",
    "\n",
    "Since these parameters are the long name, let's put them in dict relating the long name to the actual variable name"
   ]
  },
  {
   "cell_type": "code",
   "execution_count": null,
   "metadata": {},
   "outputs": [],
   "source": [
    "param_map = {}\n",
    "for _param in param_data:\n",
    "    long_name = _param['param_description']\n",
    "    short_name = _param['param']\n",
    "    param_map[long_name] = short_name\n",
    "\n",
    "for k,v in param_map.items(): print('{:7} : {}'.format(v, k))\n",
    "    "
   ]
  },
  {
   "cell_type": "code",
   "execution_count": null,
   "metadata": {},
   "outputs": [],
   "source": []
  }
 ],
 "metadata": {
  "kernelspec": {
   "display_name": "Python 3",
   "language": "python",
   "name": "python3"
  },
  "language_info": {
   "codemirror_mode": {
    "name": "ipython",
    "version": 3
   },
   "file_extension": ".py",
   "mimetype": "text/x-python",
   "name": "python",
   "nbconvert_exporter": "python",
   "pygments_lexer": "ipython3",
   "version": "3.6.5"
  }
 },
 "nbformat": 4,
 "nbformat_minor": 2
}
